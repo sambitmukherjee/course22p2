{
  "cells": [
    {
      "cell_type": "markdown",
      "source": [
        "1. Learn how to read research papers, and practice this skill by studying and implementing many papers throughout the course.\n",
        "2. Take the stable diffusion technique to the next level.\n",
        "3. Create things that no-one has seen before.\n",
        "4. Craft your own loss functions, initialization methods, multi-model mixups, and more, to create totally new applications that have never been seen before.\n",
        "5. Learn how to create your own deep learning framework - `miniai`.\n",
        "6. In many lessons, we’ll include a challenge for you to complete, some of which involve trying novel research directions where you’ll be venturing into the academic unknown.\n",
        "7. Play (a lot) with generative AI & stable diffusion online tools. You'll find links on the following pages:\n",
        "    - https://github.com/sambitmukherjee/diffusion-nbs/blob/master/suggested_tools.md\n",
        "    - https://forums.fast.ai/t/lesson-9-official-topic/100562"
      ],
      "metadata": {
        "id": "vSj4jVudEJnU"
      },
      "id": "vSj4jVudEJnU"
    },
    {
      "cell_type": "code",
      "execution_count": null,
      "id": "bfc14b46-f7b4-479e-b32c-47269c26aaef",
      "metadata": {
        "id": "bfc14b46-f7b4-479e-b32c-47269c26aaef"
      },
      "outputs": [],
      "source": []
    }
  ],
  "metadata": {
    "kernelspec": {
      "display_name": "Python 3 (ipykernel)",
      "language": "python",
      "name": "python3"
    },
    "language_info": {
      "codemirror_mode": {
        "name": "ipython",
        "version": 3
      },
      "file_extension": ".py",
      "mimetype": "text/x-python",
      "name": "python",
      "nbconvert_exporter": "python",
      "pygments_lexer": "ipython3",
      "version": "3.11.5"
    },
    "colab": {
      "provenance": []
    }
  },
  "nbformat": 4,
  "nbformat_minor": 5
}